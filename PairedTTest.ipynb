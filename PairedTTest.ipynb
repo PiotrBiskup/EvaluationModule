{
 "cells": [
  {
   "cell_type": "code",
   "execution_count": 35,
   "metadata": {},
   "outputs": [],
   "source": [
    "import pandas as pd\n",
    "from scipy import stats\n",
    "import matplotlib.pyplot as plt\n",
    "from Evaluation import output_metrics_name, output_path\n",
    "from os.path import join"
   ]
  },
  {
   "cell_type": "code",
   "execution_count": 36,
   "metadata": {},
   "outputs": [
    {
     "data": {
      "text/html": [
       "<div>\n",
       "<style scoped>\n",
       "    .dataframe tbody tr th:only-of-type {\n",
       "        vertical-align: middle;\n",
       "    }\n",
       "\n",
       "    .dataframe tbody tr th {\n",
       "        vertical-align: top;\n",
       "    }\n",
       "\n",
       "    .dataframe thead th {\n",
       "        text-align: right;\n",
       "    }\n",
       "</style>\n",
       "<table border=\"1\" class=\"dataframe\">\n",
       "  <thead>\n",
       "    <tr style=\"text-align: right;\">\n",
       "      <th></th>\n",
       "      <th>batch_roc_auc</th>\n",
       "      <th>stream_roc_auc</th>\n",
       "      <th>batch_avg_prec</th>\n",
       "      <th>stream_avg_prec</th>\n",
       "    </tr>\n",
       "  </thead>\n",
       "  <tbody>\n",
       "    <tr>\n",
       "      <td>0</td>\n",
       "      <td>0.735256</td>\n",
       "      <td>0.737039</td>\n",
       "      <td>0.033339</td>\n",
       "      <td>0.042024</td>\n",
       "    </tr>\n",
       "    <tr>\n",
       "      <td>1</td>\n",
       "      <td>0.742068</td>\n",
       "      <td>0.731444</td>\n",
       "      <td>0.029340</td>\n",
       "      <td>0.031115</td>\n",
       "    </tr>\n",
       "    <tr>\n",
       "      <td>2</td>\n",
       "      <td>0.763531</td>\n",
       "      <td>0.761080</td>\n",
       "      <td>0.053710</td>\n",
       "      <td>0.044248</td>\n",
       "    </tr>\n",
       "    <tr>\n",
       "      <td>3</td>\n",
       "      <td>0.758542</td>\n",
       "      <td>0.744606</td>\n",
       "      <td>0.037996</td>\n",
       "      <td>0.046452</td>\n",
       "    </tr>\n",
       "    <tr>\n",
       "      <td>4</td>\n",
       "      <td>0.747285</td>\n",
       "      <td>0.739414</td>\n",
       "      <td>0.034191</td>\n",
       "      <td>0.029771</td>\n",
       "    </tr>\n",
       "    <tr>\n",
       "      <td>5</td>\n",
       "      <td>0.658701</td>\n",
       "      <td>0.625618</td>\n",
       "      <td>0.000781</td>\n",
       "      <td>0.000715</td>\n",
       "    </tr>\n",
       "    <tr>\n",
       "      <td>6</td>\n",
       "      <td>0.647596</td>\n",
       "      <td>0.645081</td>\n",
       "      <td>0.001081</td>\n",
       "      <td>0.000912</td>\n",
       "    </tr>\n",
       "    <tr>\n",
       "      <td>7</td>\n",
       "      <td>0.626333</td>\n",
       "      <td>0.602210</td>\n",
       "      <td>0.000675</td>\n",
       "      <td>0.000445</td>\n",
       "    </tr>\n",
       "    <tr>\n",
       "      <td>8</td>\n",
       "      <td>0.636436</td>\n",
       "      <td>0.576162</td>\n",
       "      <td>0.000672</td>\n",
       "      <td>0.000499</td>\n",
       "    </tr>\n",
       "    <tr>\n",
       "      <td>9</td>\n",
       "      <td>0.622693</td>\n",
       "      <td>0.592197</td>\n",
       "      <td>0.000790</td>\n",
       "      <td>0.000875</td>\n",
       "    </tr>\n",
       "    <tr>\n",
       "      <td>10</td>\n",
       "      <td>0.674522</td>\n",
       "      <td>0.640279</td>\n",
       "      <td>0.000606</td>\n",
       "      <td>0.000719</td>\n",
       "    </tr>\n",
       "    <tr>\n",
       "      <td>11</td>\n",
       "      <td>0.579770</td>\n",
       "      <td>0.653908</td>\n",
       "      <td>0.000706</td>\n",
       "      <td>0.001034</td>\n",
       "    </tr>\n",
       "    <tr>\n",
       "      <td>12</td>\n",
       "      <td>0.580794</td>\n",
       "      <td>0.680292</td>\n",
       "      <td>0.000605</td>\n",
       "      <td>0.000802</td>\n",
       "    </tr>\n",
       "    <tr>\n",
       "      <td>13</td>\n",
       "      <td>0.642582</td>\n",
       "      <td>0.637132</td>\n",
       "      <td>0.000787</td>\n",
       "      <td>0.000698</td>\n",
       "    </tr>\n",
       "    <tr>\n",
       "      <td>14</td>\n",
       "      <td>0.601750</td>\n",
       "      <td>0.524461</td>\n",
       "      <td>0.000410</td>\n",
       "      <td>0.000339</td>\n",
       "    </tr>\n",
       "    <tr>\n",
       "      <td>15</td>\n",
       "      <td>0.598568</td>\n",
       "      <td>0.602099</td>\n",
       "      <td>0.000831</td>\n",
       "      <td>0.001281</td>\n",
       "    </tr>\n",
       "    <tr>\n",
       "      <td>16</td>\n",
       "      <td>0.620264</td>\n",
       "      <td>0.605490</td>\n",
       "      <td>0.001302</td>\n",
       "      <td>0.001099</td>\n",
       "    </tr>\n",
       "    <tr>\n",
       "      <td>17</td>\n",
       "      <td>0.613449</td>\n",
       "      <td>0.618187</td>\n",
       "      <td>0.001018</td>\n",
       "      <td>0.001788</td>\n",
       "    </tr>\n",
       "    <tr>\n",
       "      <td>18</td>\n",
       "      <td>0.584594</td>\n",
       "      <td>0.566197</td>\n",
       "      <td>0.000936</td>\n",
       "      <td>0.001494</td>\n",
       "    </tr>\n",
       "    <tr>\n",
       "      <td>19</td>\n",
       "      <td>0.592920</td>\n",
       "      <td>0.606490</td>\n",
       "      <td>0.000927</td>\n",
       "      <td>0.001115</td>\n",
       "    </tr>\n",
       "    <tr>\n",
       "      <td>20</td>\n",
       "      <td>0.672373</td>\n",
       "      <td>0.675560</td>\n",
       "      <td>0.010551</td>\n",
       "      <td>0.009251</td>\n",
       "    </tr>\n",
       "    <tr>\n",
       "      <td>21</td>\n",
       "      <td>0.609111</td>\n",
       "      <td>0.650709</td>\n",
       "      <td>0.006976</td>\n",
       "      <td>0.008257</td>\n",
       "    </tr>\n",
       "    <tr>\n",
       "      <td>22</td>\n",
       "      <td>0.647666</td>\n",
       "      <td>0.634305</td>\n",
       "      <td>0.009272</td>\n",
       "      <td>0.009970</td>\n",
       "    </tr>\n",
       "    <tr>\n",
       "      <td>23</td>\n",
       "      <td>0.636974</td>\n",
       "      <td>0.644928</td>\n",
       "      <td>0.009110</td>\n",
       "      <td>0.008393</td>\n",
       "    </tr>\n",
       "    <tr>\n",
       "      <td>24</td>\n",
       "      <td>0.649134</td>\n",
       "      <td>0.662706</td>\n",
       "      <td>0.008708</td>\n",
       "      <td>0.008541</td>\n",
       "    </tr>\n",
       "    <tr>\n",
       "      <td>25</td>\n",
       "      <td>0.815779</td>\n",
       "      <td>0.791143</td>\n",
       "      <td>0.034934</td>\n",
       "      <td>0.022398</td>\n",
       "    </tr>\n",
       "    <tr>\n",
       "      <td>26</td>\n",
       "      <td>0.797945</td>\n",
       "      <td>0.765741</td>\n",
       "      <td>0.015693</td>\n",
       "      <td>0.009501</td>\n",
       "    </tr>\n",
       "    <tr>\n",
       "      <td>27</td>\n",
       "      <td>0.797008</td>\n",
       "      <td>0.768465</td>\n",
       "      <td>0.033505</td>\n",
       "      <td>0.009630</td>\n",
       "    </tr>\n",
       "    <tr>\n",
       "      <td>28</td>\n",
       "      <td>0.819810</td>\n",
       "      <td>0.790173</td>\n",
       "      <td>0.039842</td>\n",
       "      <td>0.021330</td>\n",
       "    </tr>\n",
       "    <tr>\n",
       "      <td>29</td>\n",
       "      <td>0.773960</td>\n",
       "      <td>0.755923</td>\n",
       "      <td>0.020957</td>\n",
       "      <td>0.020107</td>\n",
       "    </tr>\n",
       "    <tr>\n",
       "      <td>30</td>\n",
       "      <td>0.711426</td>\n",
       "      <td>0.732580</td>\n",
       "      <td>0.006658</td>\n",
       "      <td>0.009339</td>\n",
       "    </tr>\n",
       "    <tr>\n",
       "      <td>31</td>\n",
       "      <td>0.716819</td>\n",
       "      <td>0.734249</td>\n",
       "      <td>0.005147</td>\n",
       "      <td>0.009981</td>\n",
       "    </tr>\n",
       "    <tr>\n",
       "      <td>32</td>\n",
       "      <td>0.703540</td>\n",
       "      <td>0.734636</td>\n",
       "      <td>0.006047</td>\n",
       "      <td>0.010190</td>\n",
       "    </tr>\n",
       "    <tr>\n",
       "      <td>33</td>\n",
       "      <td>0.712633</td>\n",
       "      <td>0.763010</td>\n",
       "      <td>0.004490</td>\n",
       "      <td>0.009760</td>\n",
       "    </tr>\n",
       "    <tr>\n",
       "      <td>34</td>\n",
       "      <td>0.728356</td>\n",
       "      <td>0.745231</td>\n",
       "      <td>0.006479</td>\n",
       "      <td>0.012598</td>\n",
       "    </tr>\n",
       "    <tr>\n",
       "      <td>35</td>\n",
       "      <td>0.790224</td>\n",
       "      <td>0.746452</td>\n",
       "      <td>0.035365</td>\n",
       "      <td>0.021279</td>\n",
       "    </tr>\n",
       "    <tr>\n",
       "      <td>36</td>\n",
       "      <td>0.783616</td>\n",
       "      <td>0.766398</td>\n",
       "      <td>0.059432</td>\n",
       "      <td>0.036149</td>\n",
       "    </tr>\n",
       "    <tr>\n",
       "      <td>37</td>\n",
       "      <td>0.785344</td>\n",
       "      <td>0.774009</td>\n",
       "      <td>0.042060</td>\n",
       "      <td>0.030237</td>\n",
       "    </tr>\n",
       "    <tr>\n",
       "      <td>38</td>\n",
       "      <td>0.787358</td>\n",
       "      <td>0.774606</td>\n",
       "      <td>0.037868</td>\n",
       "      <td>0.015237</td>\n",
       "    </tr>\n",
       "    <tr>\n",
       "      <td>39</td>\n",
       "      <td>0.743560</td>\n",
       "      <td>0.735669</td>\n",
       "      <td>0.049655</td>\n",
       "      <td>0.028402</td>\n",
       "    </tr>\n",
       "    <tr>\n",
       "      <td>40</td>\n",
       "      <td>0.647081</td>\n",
       "      <td>0.683930</td>\n",
       "      <td>0.000967</td>\n",
       "      <td>0.001048</td>\n",
       "    </tr>\n",
       "    <tr>\n",
       "      <td>41</td>\n",
       "      <td>0.626458</td>\n",
       "      <td>0.662353</td>\n",
       "      <td>0.002147</td>\n",
       "      <td>0.001469</td>\n",
       "    </tr>\n",
       "    <tr>\n",
       "      <td>42</td>\n",
       "      <td>0.632321</td>\n",
       "      <td>0.705230</td>\n",
       "      <td>0.001131</td>\n",
       "      <td>0.002747</td>\n",
       "    </tr>\n",
       "    <tr>\n",
       "      <td>43</td>\n",
       "      <td>0.591642</td>\n",
       "      <td>0.652666</td>\n",
       "      <td>0.000908</td>\n",
       "      <td>0.001362</td>\n",
       "    </tr>\n",
       "    <tr>\n",
       "      <td>44</td>\n",
       "      <td>0.593062</td>\n",
       "      <td>0.647523</td>\n",
       "      <td>0.000964</td>\n",
       "      <td>0.006687</td>\n",
       "    </tr>\n",
       "  </tbody>\n",
       "</table>\n",
       "</div>"
      ],
      "text/plain": [
       "    batch_roc_auc  stream_roc_auc  batch_avg_prec  stream_avg_prec\n",
       "0        0.735256        0.737039        0.033339         0.042024\n",
       "1        0.742068        0.731444        0.029340         0.031115\n",
       "2        0.763531        0.761080        0.053710         0.044248\n",
       "3        0.758542        0.744606        0.037996         0.046452\n",
       "4        0.747285        0.739414        0.034191         0.029771\n",
       "5        0.658701        0.625618        0.000781         0.000715\n",
       "6        0.647596        0.645081        0.001081         0.000912\n",
       "7        0.626333        0.602210        0.000675         0.000445\n",
       "8        0.636436        0.576162        0.000672         0.000499\n",
       "9        0.622693        0.592197        0.000790         0.000875\n",
       "10       0.674522        0.640279        0.000606         0.000719\n",
       "11       0.579770        0.653908        0.000706         0.001034\n",
       "12       0.580794        0.680292        0.000605         0.000802\n",
       "13       0.642582        0.637132        0.000787         0.000698\n",
       "14       0.601750        0.524461        0.000410         0.000339\n",
       "15       0.598568        0.602099        0.000831         0.001281\n",
       "16       0.620264        0.605490        0.001302         0.001099\n",
       "17       0.613449        0.618187        0.001018         0.001788\n",
       "18       0.584594        0.566197        0.000936         0.001494\n",
       "19       0.592920        0.606490        0.000927         0.001115\n",
       "20       0.672373        0.675560        0.010551         0.009251\n",
       "21       0.609111        0.650709        0.006976         0.008257\n",
       "22       0.647666        0.634305        0.009272         0.009970\n",
       "23       0.636974        0.644928        0.009110         0.008393\n",
       "24       0.649134        0.662706        0.008708         0.008541\n",
       "25       0.815779        0.791143        0.034934         0.022398\n",
       "26       0.797945        0.765741        0.015693         0.009501\n",
       "27       0.797008        0.768465        0.033505         0.009630\n",
       "28       0.819810        0.790173        0.039842         0.021330\n",
       "29       0.773960        0.755923        0.020957         0.020107\n",
       "30       0.711426        0.732580        0.006658         0.009339\n",
       "31       0.716819        0.734249        0.005147         0.009981\n",
       "32       0.703540        0.734636        0.006047         0.010190\n",
       "33       0.712633        0.763010        0.004490         0.009760\n",
       "34       0.728356        0.745231        0.006479         0.012598\n",
       "35       0.790224        0.746452        0.035365         0.021279\n",
       "36       0.783616        0.766398        0.059432         0.036149\n",
       "37       0.785344        0.774009        0.042060         0.030237\n",
       "38       0.787358        0.774606        0.037868         0.015237\n",
       "39       0.743560        0.735669        0.049655         0.028402\n",
       "40       0.647081        0.683930        0.000967         0.001048\n",
       "41       0.626458        0.662353        0.002147         0.001469\n",
       "42       0.632321        0.705230        0.001131         0.002747\n",
       "43       0.591642        0.652666        0.000908         0.001362\n",
       "44       0.593062        0.647523        0.000964         0.006687"
      ]
     },
     "execution_count": 36,
     "metadata": {},
     "output_type": "execute_result"
    }
   ],
   "source": [
    "results = pd.read_csv(join(output_path, output_metrics_name))\n",
    "results"
   ]
  },
  {
   "cell_type": "code",
   "execution_count": 37,
   "metadata": {
    "scrolled": true
   },
   "outputs": [
    {
     "data": {
      "text/html": [
       "<div>\n",
       "<style scoped>\n",
       "    .dataframe tbody tr th:only-of-type {\n",
       "        vertical-align: middle;\n",
       "    }\n",
       "\n",
       "    .dataframe tbody tr th {\n",
       "        vertical-align: top;\n",
       "    }\n",
       "\n",
       "    .dataframe thead th {\n",
       "        text-align: right;\n",
       "    }\n",
       "</style>\n",
       "<table border=\"1\" class=\"dataframe\">\n",
       "  <thead>\n",
       "    <tr style=\"text-align: right;\">\n",
       "      <th></th>\n",
       "      <th>batch_roc_auc</th>\n",
       "      <th>stream_roc_auc</th>\n",
       "      <th>batch_avg_prec</th>\n",
       "      <th>stream_avg_prec</th>\n",
       "    </tr>\n",
       "  </thead>\n",
       "  <tbody>\n",
       "    <tr>\n",
       "      <td>count</td>\n",
       "      <td>45.000000</td>\n",
       "      <td>45.000000</td>\n",
       "      <td>45.000000</td>\n",
       "      <td>45.000000</td>\n",
       "    </tr>\n",
       "    <tr>\n",
       "      <td>mean</td>\n",
       "      <td>0.684463</td>\n",
       "      <td>0.686391</td>\n",
       "      <td>0.014435</td>\n",
       "      <td>0.011806</td>\n",
       "    </tr>\n",
       "    <tr>\n",
       "      <td>std</td>\n",
       "      <td>0.075797</td>\n",
       "      <td>0.069812</td>\n",
       "      <td>0.017680</td>\n",
       "      <td>0.013258</td>\n",
       "    </tr>\n",
       "    <tr>\n",
       "      <td>min</td>\n",
       "      <td>0.579770</td>\n",
       "      <td>0.524461</td>\n",
       "      <td>0.000410</td>\n",
       "      <td>0.000339</td>\n",
       "    </tr>\n",
       "    <tr>\n",
       "      <td>25%</td>\n",
       "      <td>0.622693</td>\n",
       "      <td>0.637132</td>\n",
       "      <td>0.000927</td>\n",
       "      <td>0.001099</td>\n",
       "    </tr>\n",
       "    <tr>\n",
       "      <td>50%</td>\n",
       "      <td>0.658701</td>\n",
       "      <td>0.680292</td>\n",
       "      <td>0.006047</td>\n",
       "      <td>0.008541</td>\n",
       "    </tr>\n",
       "    <tr>\n",
       "      <td>75%</td>\n",
       "      <td>0.747285</td>\n",
       "      <td>0.745231</td>\n",
       "      <td>0.033339</td>\n",
       "      <td>0.020107</td>\n",
       "    </tr>\n",
       "    <tr>\n",
       "      <td>max</td>\n",
       "      <td>0.819810</td>\n",
       "      <td>0.791143</td>\n",
       "      <td>0.059432</td>\n",
       "      <td>0.046452</td>\n",
       "    </tr>\n",
       "  </tbody>\n",
       "</table>\n",
       "</div>"
      ],
      "text/plain": [
       "       batch_roc_auc  stream_roc_auc  batch_avg_prec  stream_avg_prec\n",
       "count      45.000000       45.000000       45.000000        45.000000\n",
       "mean        0.684463        0.686391        0.014435         0.011806\n",
       "std         0.075797        0.069812        0.017680         0.013258\n",
       "min         0.579770        0.524461        0.000410         0.000339\n",
       "25%         0.622693        0.637132        0.000927         0.001099\n",
       "50%         0.658701        0.680292        0.006047         0.008541\n",
       "75%         0.747285        0.745231        0.033339         0.020107\n",
       "max         0.819810        0.791143        0.059432         0.046452"
      ]
     },
     "execution_count": 37,
     "metadata": {},
     "output_type": "execute_result"
    }
   ],
   "source": [
    "results[['batch_roc_auc','stream_roc_auc','batch_avg_prec','stream_avg_prec']].describe()"
   ]
  },
  {
   "cell_type": "markdown",
   "metadata": {},
   "source": [
    "Paired T Test dla obszarów pod krzywą charakterystyki roboczej odbiornika (roc_auc)\n",
    "\n",
    "Sprawdzenie czy nie ma obserwacji odstających (ang. outliers)"
   ]
  },
  {
   "cell_type": "code",
   "execution_count": 38,
   "metadata": {},
   "outputs": [
    {
     "data": {
      "text/plain": [
       "<matplotlib.axes._subplots.AxesSubplot at 0x7fbb81b38b50>"
      ]
     },
     "execution_count": 38,
     "metadata": {},
     "output_type": "execute_result"
    },
    {
     "data": {
      "image/png": "[encoded data removed]",
      "text/plain": [
       "<Figure size 432x288 with 1 Axes>"
      ]
     },
     "metadata": {
      "needs_background": "light"
     },
     "output_type": "display_data"
    }
   ],
   "source": [
    "results[['batch_roc_auc', 'stream_roc_auc']].plot(kind='box')"
   ]
  },
  {
   "cell_type": "markdown",
   "metadata": {},
   "source": [
    "Nie ma obserwacji odstających\n",
    "\n",
    "Sprawdzenie czy dane mają rozkład normalny, ponieważ wymaga tego test paired t-test"
   ]
  },
  {
   "cell_type": "code",
   "execution_count": 39,
   "metadata": {},
   "outputs": [
    {
     "data": {
      "text/plain": [
       "<matplotlib.axes._subplots.AxesSubplot at 0x7fbb90430810>"
      ]
     },
     "execution_count": 39,
     "metadata": {},
     "output_type": "execute_result"
    },
    {
     "data": {
      "image/png": "[encoded data removed]",
      "text/plain": [
       "<Figure size 432x288 with 1 Axes>"
      ]
     },
     "metadata": {
      "needs_background": "light"
     },
     "output_type": "display_data"
    }
   ],
   "source": [
    "results['difference_roc_auc'] = results['batch_roc_auc'] - results['stream_roc_auc']\n",
    "results['difference_roc_auc'].plot(kind='hist', title= 'ROC AUC Accuracy Histogram')"
   ]
  },
  {
   "cell_type": "code",
   "execution_count": 40,
   "metadata": {},
   "outputs": [
    {
     "data": {
      "text/plain": [
       "Text(0.5, 1.0, 'ROC AUC Difference Q-Q Plot')"
      ]
     },
     "execution_count": 40,
     "metadata": {},
     "output_type": "execute_result"
    },
    {
     "data": {
      "image/png": "[encoded data removed]",
      "text/plain": [
       "<Figure size 432x288 with 1 Axes>"
      ]
     },
     "metadata": {
      "needs_background": "light"
     },
     "output_type": "display_data"
    }
   ],
   "source": [
    "stats.probplot(results['difference_roc_auc'], plot= plt)\n",
    "plt.title('ROC AUC Difference Q-Q Plot')"
   ]
  },
  {
   "cell_type": "code",
   "execution_count": 41,
   "metadata": {},
   "outputs": [
    {
     "data": {
      "text/plain": [
       "(0.9645327925682068, 0.18157151341438293)"
      ]
     },
     "execution_count": 41,
     "metadata": {},
     "output_type": "execute_result"
    }
   ],
   "source": [
    "stats.shapiro(results['difference_roc_auc'])"
   ]
  },
  {
   "cell_type": "markdown",
   "metadata": {},
   "source": [
    "Hipoteza zerowa -> populacja ma rozkład normalny.\n",
    "Hipoteza alternatynwna -> populacja nie ma rozkładu normalnego\n",
    "Dla pvalue (0.18157151341438293) > alpha_level (0.05) hipoteza zerowa nie może zostać odrzucona. Dane mają rozkład normalny.\n",
    "\n",
    "Nasze dane mają rozkład normalny więc przechodzimy do Paired T Test"
   ]
  },
  {
   "cell_type": "code",
   "execution_count": 42,
   "metadata": {},
   "outputs": [
    {
     "data": {
      "text/plain": [
       "Ttest_relResult(statistic=-0.35798944884706857, pvalue=0.7220629490516326)"
      ]
     },
     "execution_count": 42,
     "metadata": {},
     "output_type": "execute_result"
    }
   ],
   "source": [
    "stats.ttest_rel(results['batch_roc_auc'], results['stream_roc_auc'])"
   ]
  },
  {
   "cell_type": "markdown",
   "metadata": {},
   "source": [
    "Hipoteza zerowa -> średnia różnica pomiędzy batch_roc_auc a stream_roc_auc jest równa 0.\n",
    "Hipoteza alternatywna ->  średnia różnica pomiędzy batch_roc_auc a stream_roc_auc jest różna od 0.\n",
    "Dla pvalue (0.7220629490516326) > alpha level (0.05) hipoteza zerowa nie może zostać odrzucona. Dane są więc statystycznie nieznaczące.\n",
    "\n",
    "Powtórzenie powyższych kroków dla średniej precyzji (avg_prec)\n",
    "\n",
    "Sprawdzenie czy nie ma obserwacji odstających (ang. outliers)"
   ]
  },
  {
   "cell_type": "code",
   "execution_count": 43,
   "metadata": {},
   "outputs": [
    {
     "data": {
      "text/plain": [
       "<matplotlib.axes._subplots.AxesSubplot at 0x7fbb9039e610>"
      ]
     },
     "execution_count": 43,
     "metadata": {},
     "output_type": "execute_result"
    },
    {
     "data": {
      "image/png": "[encoded data removed]",
      "text/plain": [
       "<Figure size 432x288 with 1 Axes>"
      ]
     },
     "metadata": {
      "needs_background": "light"
     },
     "output_type": "display_data"
    }
   ],
   "source": [
    "results[['batch_avg_prec', 'stream_avg_prec']].plot(kind='box')"
   ]
  },
  {
   "cell_type": "markdown",
   "metadata": {},
   "source": [
    "Nie ma obserwacji odstających\n",
    "\n",
    "Sprawdzenie czy dane mają rozkład normalny, ponieważ wymaga tego test paired t-test"
   ]
  },
  {
   "cell_type": "code",
   "execution_count": 44,
   "metadata": {},
   "outputs": [
    {
     "data": {
      "text/plain": [
       "<matplotlib.axes._subplots.AxesSubplot at 0x7fbb818bd510>"
      ]
     },
     "execution_count": 44,
     "metadata": {},
     "output_type": "execute_result"
    },
    {
     "data": {
      "image/png": "[encoded data removed]",
      "text/plain": [
       "<Figure size 432x288 with 1 Axes>"
      ]
     },
     "metadata": {
      "needs_background": "light"
     },
     "output_type": "display_data"
    }
   ],
   "source": [
    "results['difference_avg_prec'] = results['batch_avg_prec'] - results['stream_avg_prec']\n",
    "results['difference_avg_prec'].plot(kind='hist', title= 'Average Precision Histogram')"
   ]
  },
  {
   "cell_type": "code",
   "execution_count": 45,
   "metadata": {},
   "outputs": [
    {
     "data": {
      "text/plain": [
       "Text(0.5, 1.0, 'Average Precision Difference Q-Q Plot')"
      ]
     },
     "execution_count": 45,
     "metadata": {},
     "output_type": "execute_result"
    },
    {
     "data": {
      "image/png": "[encoded data removed]",
      "text/plain": [
       "<Figure size 432x288 with 1 Axes>"
      ]
     },
     "metadata": {
      "needs_background": "light"
     },
     "output_type": "display_data"
    }
   ],
   "source": [
    "stats.probplot(results['difference_avg_prec'], plot= plt)\n",
    "plt.title('Average Precision Difference Q-Q Plot')"
   ]
  },
  {
   "cell_type": "code",
   "execution_count": 46,
   "metadata": {},
   "outputs": [
    {
     "data": {
      "text/plain": [
       "(0.7901073098182678, 1.4514598660753109e-06)"
      ]
     },
     "execution_count": 46,
     "metadata": {},
     "output_type": "execute_result"
    }
   ],
   "source": [
    "stats.shapiro(results['difference_avg_prec'])"
   ]
  },
  {
   "cell_type": "markdown",
   "metadata": {},
   "source": [
    "Hipoteza zerowa -> populacja ma rozkład normalny.\n",
    "Hipoteza alternatynwna -> populacja nie ma rozkładu normalnego\n",
    "Dla pvalue (0.0000014514598660753109) > alpha_level (0.05) hipoteza zerowa może zostać odrzucona. Dane nie mają rozkładu normalnego. Paired T-Test może więc być sfałszowany.\n",
    "Paired Samples T-Test"
   ]
  },
  {
   "cell_type": "code",
   "execution_count": 47,
   "metadata": {},
   "outputs": [
    {
     "data": {
      "text/plain": [
       "Ttest_relResult(statistic=2.115647407415726, pvalue=0.040070856120444885)"
      ]
     },
     "execution_count": 47,
     "metadata": {},
     "output_type": "execute_result"
    }
   ],
   "source": [
    "stats.ttest_rel(results['batch_avg_prec'], results['stream_avg_prec'])"
   ]
  },
  {
   "cell_type": "markdown",
   "metadata": {},
   "source": [
    "Hipoteza zerowa -> średnia różnica pomiędzy batch_roc_auc a stream_roc_auc jest równa 0.\n",
    "Hipoteza alternatywna ->  średnia różnica pomiędzy batch_roc_auc a stream_roc_auc jest różna od 0.\n",
    "Dla pvalue (0.040070856120444885) > alpha level (0.05) hipoteza zerowa nie może zostać odrzucona. Dane są więc statystycznie nieznaczące.\n",
    "\n",
    "Wykorzystamy Wilcoxon Sign-Ranked Test, który nie ma wymagań dotyczących rozkładu populacji."
   ]
  },
  {
   "cell_type": "code",
   "execution_count": 48,
   "metadata": {},
   "outputs": [
    {
     "data": {
      "text/plain": [
       "WilcoxonResult(statistic=462.0, pvalue=0.5310138434457455)"
      ]
     },
     "execution_count": 48,
     "metadata": {},
     "output_type": "execute_result"
    }
   ],
   "source": [
    "stats.wilcoxon(results['batch_avg_prec'], results['stream_avg_prec'])"
   ]
  },
  {
   "cell_type": "markdown",
   "metadata": {},
   "source": [
    "Hipoteza zerowa -> średnia różnica pomiędzy batch_avg_prec i stream_avg_prec jest równa 0.\n",
    "Hipoteza alternatywna ->  średnia różnica pomiędzy batch_avg_prec i stream_avg_prec jest różna od 0.\n",
    "Dla pvalue(0.5310138434457455) > alpha level (0.05) hipoteza zerowa nie może zostać odrzucona. Dane są więc statystycznie nieznaczące."
   ]
  },
  {
   "cell_type": "code",
   "execution_count": null,
   "metadata": {},
   "outputs": [],
   "source": []
  }
 ],
 "metadata": {
  "kernelspec": {
   "display_name": "Python 3",
   "language": "python",
   "name": "python3"
  },
  "language_info": {
   "codemirror_mode": {
    "name": "ipython",
    "version": 3
   },
   "file_extension": ".py",
   "mimetype": "text/x-python",
   "name": "python",
   "nbconvert_exporter": "python",
   "pygments_lexer": "ipython3",
   "version": "3.7.4"
  }
 },
 "nbformat": 4,
 "nbformat_minor": 2
}
